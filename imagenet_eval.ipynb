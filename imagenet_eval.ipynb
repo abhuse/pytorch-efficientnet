{
 "cells": [
  {
   "cell_type": "code",
   "execution_count": null,
   "metadata": {},
   "outputs": [],
   "source": [
    "import torch\n",
    "import torchvision.transforms as transforms\n",
    "import torchvision.datasets as datasets\n",
    "from sklearn.metrics import accuracy_score\n",
    "from PIL import Image\n",
    "\n",
    "from efficientnet import EfficientNet\n",
    "from efficientnet_v2 import EfficientNetV2\n"
   ]
  },
  {
   "cell_type": "code",
   "execution_count": null,
   "metadata": {},
   "outputs": [],
   "source": [
    "def eval_model(model, dataloader, device, criterion=None):\n",
    "    loss_value = []\n",
    "    y_pred = []\n",
    "    y_true = []\n",
    "\n",
    "    model.eval()\n",
    "    with torch.no_grad():\n",
    "        for xb, yb in dataloader:\n",
    "            xb, yb = xb.to(device), yb.to(device)\n",
    "            out = model(xb)\n",
    "            if out.size(1) == 1:\n",
    "                # regression\n",
    "                out = torch.squeeze(out, 1)\n",
    "\n",
    "            if criterion is not None:\n",
    "                loss = criterion(out, yb)\n",
    "                loss_value.append(loss.item())\n",
    "\n",
    "            y_pred.append(out.detach().cpu())\n",
    "            y_true.append(yb.detach().cpu())\n",
    "\n",
    "    if criterion is not None:\n",
    "        loss_value = sum(loss_value) / len(loss_value)\n",
    "        return torch.cat(y_pred), torch.cat(y_true), loss_value\n",
    "    else:\n",
    "        return torch.cat(y_pred), torch.cat(y_true)\n"
   ]
  },
  {
   "cell_type": "markdown",
   "metadata": {},
   "source": [
    "## EfficientNetV2"
   ]
  },
  {
   "cell_type": "code",
   "execution_count": null,
   "metadata": {},
   "outputs": [],
   "source": [
    "device = torch.device(\"cuda\" if torch.cuda.is_available() else \"cpu\")\n",
    "\n",
    "modelname = 's'\n",
    "in_spatial_shape = EfficientNetV2._models[modelname]['eval_size']\n",
    "\n",
    "# Setting tf_style_conv=True and in_spatial_shape only necessary when evaluating against Imagenet dataset\n",
    "# Model names: 'b0, 'b1', 'b2', 'b3', 's', 'm', 'l', 'xl'\n",
    "model = EfficientNetV2(modelname,\n",
    "                       tf_style_conv=True,\n",
    "                       in_spatial_shape=in_spatial_shape,\n",
    "                       pretrained=True,\n",
    "                       progress=True)\n",
    "model.to(device)\n",
    "\n",
    "val_trainsforms = transforms.Compose([\n",
    "    transforms.Resize(in_spatial_shape,\n",
    "                      interpolation=transforms.InterpolationMode.BICUBIC),\n",
    "    transforms.CenterCrop(in_spatial_shape),\n",
    "    transforms.ToTensor(),\n",
    "    transforms.Normalize(mean=0.5,\n",
    "                         std=0.5),\n",
    "])\n",
    "\n",
    "val_dataset = datasets.ImageNet(root=\"/path/to/imagenet/val/subset\", split=\"val\",\n",
    "                                transform=val_trainsforms)\n",
    "\n",
    "val_loader = torch.utils.data.DataLoader(\n",
    "    val_dataset,\n",
    "    batch_size=32, shuffle=False,\n",
    "    num_workers=2, pin_memory=True)\n"
   ]
  },
  {
   "cell_type": "code",
   "execution_count": null,
   "metadata": {},
   "outputs": [],
   "source": [
    "y_pred, y_true = eval_model(model, val_loader, device)\n",
    "_, y_pred = torch.max(y_pred, 1)\n",
    "\n",
    "score = accuracy_score(y_pred, y_true)\n",
    "print(\"Accuracy: {:.3%}\".format(score))\n"
   ]
  },
  {
   "cell_type": "markdown",
   "metadata": {},
   "source": [
    "Expected evaluation metric values on ImageNet validation set \n",
    "\n",
    "EfficientNetV2-b0 - 77.590% <br>\n",
    "EfficientNetV2-b1 - 78.872% <br>\n",
    "EfficientNetV2-b2 - 79.388% <br>\n",
    "EfficientNetV2-b3 - 82.260% <br>\n",
    "EfficientNetV2-S - 84.282% <br>\n",
    "EfficientNetV2-M - 85.596% <br>\n",
    "EfficientNetV2-L - 86.298% <br>\n",
    "EfficientNetV2-XL - 86.414% <br>"
   ]
  },
  {
   "cell_type": "markdown",
   "metadata": {},
   "source": [
    "## EfficientNetV1"
   ]
  },
  {
   "cell_type": "code",
   "execution_count": null,
   "metadata": {},
   "outputs": [],
   "source": [
    "device = torch.device(\"cuda\" if torch.cuda.is_available() else \"cpu\")\n",
    "\n",
    "# EfficientNet model index, i.e. 0 for for EfficientNet-B0\n",
    "idx = 0\n",
    "model = EfficientNet(idx, pretrained=True, progress=True)\n",
    "model.to(device)\n",
    "\n",
    "val_trainsforms = transforms.Compose([\n",
    "    transforms.Resize(model.in_spatial_shape[0], interpolation=Image.BICUBIC),\n",
    "    transforms.CenterCrop(model.in_spatial_shape),\n",
    "    transforms.ToTensor(),\n",
    "    transforms.Normalize(mean=[0.485, 0.456, 0.406],\n",
    "                         std=[0.229, 0.224, 0.225]),\n",
    "])\n",
    "\n",
    "\n",
    "val_dataset = datasets.ImageNet(root=\"path/to/imagenet/dataset\", split=\"val\",\n",
    "                                transform=val_trainsforms)\n",
    "\n",
    "val_loader = torch.utils.data.DataLoader(\n",
    "    val_dataset,\n",
    "    batch_size=32, shuffle=False,\n",
    "    num_workers=1, pin_memory=True)\n"
   ]
  },
  {
   "cell_type": "code",
   "execution_count": null,
   "metadata": {},
   "outputs": [],
   "source": [
    "y_pred, y_true = eval_model(model, val_loader, device)\n",
    "_, y_pred = torch.max(y_pred, 1)\n",
    "\n",
    "score = accuracy_score(y_pred, y_true)\n",
    "print(\"Accuracy: {:.3%}\".format(score))\n"
   ]
  },
  {
   "cell_type": "markdown",
   "metadata": {},
   "source": [
    "Expected evaluation metric values on ImageNet validation set \n",
    "\n",
    "EfficientNet-B0 - 76.43% <br>\n",
    "EfficientNet-B1 - 78.396% <br>\n",
    "EfficientNet-B2 - 79.804% <br>\n",
    "EfficientNet-B3 - 81.542% <br>\n",
    "EfficientNet-B4 - 83.036% <br>\n",
    "EfficientNet-B5 - 83.79% <br>\n",
    "EfficientNet-B6 - 84.136% <br>\n",
    "EfficientNet-B7 - 84.578% <br>"
   ]
  }
 ],
 "metadata": {
  "kernelspec": {
   "display_name": "Python 3",
   "language": "python",
   "name": "python3"
  },
  "language_info": {
   "codemirror_mode": {
    "name": "ipython",
    "version": 3
   },
   "file_extension": ".py",
   "mimetype": "text/x-python",
   "name": "python",
   "nbconvert_exporter": "python",
   "pygments_lexer": "ipython3",
   "version": "3.8.10"
  }
 },
 "nbformat": 4,
 "nbformat_minor": 4
}
